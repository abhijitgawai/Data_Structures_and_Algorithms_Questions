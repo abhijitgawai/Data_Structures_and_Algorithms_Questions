{
 "cells": [
  {
   "cell_type": "markdown",
   "metadata": {},
   "source": [
    "# 205\tCheck if a tree is a BST or not \n"
   ]
  },
  {
   "cell_type": "code",
   "execution_count": 1,
   "metadata": {},
   "outputs": [],
   "source": [
    "def isBST(self, root):\n",
    "    q=[]\n",
    "    a=[]\n",
    "    #q.append(root)\n",
    "    t=root\n",
    "    while(q or t):\n",
    "        if t:\n",
    "            q.append(t)\n",
    "            t=t.left\n",
    "        else:\n",
    "            t=q.pop()\n",
    "            if t.data in a:\n",
    "                return 0\n",
    "            a.append(t.data)\n",
    "\n",
    "\n",
    "            t=t.right\n",
    "\n",
    "\n",
    "    return a==sorted(a)"
   ]
  },
  {
   "cell_type": "markdown",
   "metadata": {},
   "source": [
    "# 208\tConstruct BST from preorder traversal\n"
   ]
  },
  {
   "cell_type": "code",
   "execution_count": 2,
   "metadata": {},
   "outputs": [],
   "source": [
    "def insert(root, key):\n",
    "    if root is None:\n",
    "        return Node(key)\n",
    "    else:\n",
    "        if root.val == key:\n",
    "            return root\n",
    "        elif root.val < key:\n",
    "            root.right = insert(root.right, key)\n",
    "        else:\n",
    "            root.left = insert(root.left, key)\n",
    "    return root"
   ]
  },
  {
   "cell_type": "code",
   "execution_count": 8,
   "metadata": {},
   "outputs": [
    {
     "name": "stdout",
     "output_type": "stream",
     "text": [
      "1\n",
      "5\n",
      "7\n",
      "10\n",
      "40\n",
      "50\n"
     ]
    }
   ],
   "source": [
    "a=[10, 5, 1, 7, 40, 50]\n",
    "\n",
    "roott=Node(a[0])\n",
    "for x in range(1,len(a)):\n",
    "    insert(roott,a[x])\n",
    "inorder(roott)"
   ]
  }
 ],
 "metadata": {
  "kernelspec": {
   "display_name": "Python 3",
   "language": "python",
   "name": "python3"
  },
  "language_info": {
   "codemirror_mode": {
    "name": "ipython",
    "version": 3
   },
   "file_extension": ".py",
   "mimetype": "text/x-python",
   "name": "python",
   "nbconvert_exporter": "python",
   "pygments_lexer": "ipython3",
   "version": "3.7.3"
  }
 },
 "nbformat": 4,
 "nbformat_minor": 2
}
