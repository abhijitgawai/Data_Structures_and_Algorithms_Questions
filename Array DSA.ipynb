{
 "cells": [
  {
   "cell_type": "markdown",
   "metadata": {},
   "source": [
    "# 1 Reverse the Array"
   ]
  },
  {
   "cell_type": "code",
   "execution_count": 12,
   "metadata": {
    "scrolled": true
   },
   "outputs": [
    {
     "name": "stdin",
     "output_type": "stream",
     "text": [
      " fadfdf\n"
     ]
    },
    {
     "name": "stdout",
     "output_type": "stream",
     "text": [
      "fdfdaf\n"
     ]
    }
   ],
   "source": [
    "def reverseWord(s):\n",
    "    #your code here\n",
    "    return s[::-1]\n",
    "#{ \n",
    "#  Driver Code Starts\n",
    "#Initial Template for Python 3\n",
    "\n",
    "if __name__ == \"__main__\":\n",
    "    \n",
    "        s = input()\n",
    "        print(reverseWord(s))\n",
    "        "
   ]
  },
  {
   "cell_type": "code",
   "execution_count": 34,
   "metadata": {},
   "outputs": [
    {
     "name": "stdout",
     "output_type": "stream",
     "text": [
      "1.5\n",
      "1\n",
      "2\n",
      "1\n",
      "0\n"
     ]
    }
   ],
   "source": [
    "print(3/2)\n",
    "print(3//2)\n",
    "print(4//2)\n",
    "print(3%2)\n",
    "print(4%2)"
   ]
  },
  {
   "cell_type": "code",
   "execution_count": 68,
   "metadata": {},
   "outputs": [
    {
     "name": "stdout",
     "output_type": "stream",
     "text": [
      "['f', 'e', 'd', 'c', 'b', 'a']\n",
      "['g', 'f', 'e', 'd', 'c', 'b', 'a']\n"
     ]
    }
   ],
   "source": [
    "a = ['a', 'b', 'c', 'd', 'e', 'f']\n",
    "b = ['a', 'b', 'c', 'd', 'e', 'f', 'g']\n",
    "\n",
    "#1\n",
    "def reversethearray(a):\n",
    "    a[::] = a[::-1]\n",
    "    print(a)\n",
    "\n",
    "\n",
    "''' #2\n",
    "def reversethearray(a):\n",
    "    for i in range(len(a)//2):\n",
    "        a[i],a[len(a)-i-1] = a[len(a)-i-1], a[i]\n",
    "    print(a)\n",
    "'''\n",
    "\n",
    "''' #3\n",
    "def reversethearray(a):\n",
    "    for i in range(len(a)//2):\n",
    "        b = a[i]\n",
    "        a[i] = a[len(a)-i-1]\n",
    "        a[len(a)-i-1] = b\n",
    "    print(a)\n",
    "'''\n",
    "\n",
    "''' #4\n",
    "def reversethearray(a):\n",
    "    i=0\n",
    "    while(i<len(a)/2):\n",
    "        b = a[i]\n",
    "        a[i] = a[len(a)-i-1]\n",
    "        a[len(a)-i-1] = b\n",
    "        i = i+1\n",
    "    print(a)\n",
    "'''\n",
    "\n",
    "\n",
    "reversethearray(a)\n",
    "reversethearray(b)"
   ]
  },
  {
   "cell_type": "code",
   "execution_count": 10,
   "metadata": {},
   "outputs": [
    {
     "name": "stdout",
     "output_type": "stream",
     "text": [
      "Help on built-in function array in module numpy:\n",
      "\n",
      "array(...)\n",
      "    array(object, dtype=None, *, copy=True, order='K', subok=False, ndmin=0,\n",
      "          like=None)\n",
      "\n",
      "    Create an array.\n",
      "\n",
      "    Parameters\n",
      "    ----------\n",
      "    object : array_like\n",
      "        An array, any object exposing the array interface, an object whose\n",
      "        ``__array__`` method returns an array, or any (nested) sequence.\n",
      "        If object is a scalar, a 0-dimensional array containing object is\n",
      "        returned.\n",
      "    dtype : data-type, optional\n",
      "        The desired data-type for the array. If not given, NumPy will try to use\n",
      "        a default ``dtype`` that can represent the values (by applying promotion\n",
      "        rules when necessary.)\n",
      "    copy : bool, optional\n",
      "        If true (default), then the object is copied.  Otherwise, a copy will\n",
      "        only be made if ``__array__`` returns a copy, if obj is a nested\n",
      "        sequence, or if a copy is needed to satisfy any of the other\n",
      "        requirements (``dtype``, ``order``, etc.).\n",
      "    order : {'K', 'A', 'C', 'F'}, optional\n",
      "        Specify the memory layout of the array. If object is not an array, the\n",
      "        newly created array will be in C order (row major) unless 'F' is\n",
      "        specified, in which case it will be in Fortran order (column major).\n",
      "        If object is an array the following holds.\n",
      "\n",
      "        ===== ========= ===================================================\n",
      "        order  no copy                     copy=True\n",
      "        ===== ========= ===================================================\n",
      "        'K'   unchanged F & C order preserved, otherwise most similar order\n",
      "        'A'   unchanged F order if input is F and not C, otherwise C order\n",
      "        'C'   C order   C order\n",
      "        'F'   F order   F order\n",
      "        ===== ========= ===================================================\n",
      "\n",
      "        When ``copy=False`` and a copy is made for other reasons, the result is\n",
      "        the same as if ``copy=True``, with some exceptions for 'A', see the\n",
      "        Notes section. The default order is 'K'.\n",
      "    subok : bool, optional\n",
      "        If True, then sub-classes will be passed-through, otherwise\n",
      "        the returned array will be forced to be a base-class array (default).\n",
      "    ndmin : int, optional\n",
      "        Specifies the minimum number of dimensions that the resulting\n",
      "        array should have.  Ones will be prepended to the shape as\n",
      "        needed to meet this requirement.\n",
      "    like : array_like, optional\n",
      "        Reference object to allow the creation of arrays which are not\n",
      "        NumPy arrays. If an array-like passed in as ``like`` supports\n",
      "        the ``__array_function__`` protocol, the result will be defined\n",
      "        by it. In this case, it ensures the creation of an array object\n",
      "        compatible with that passed in via this argument.\n",
      "\n",
      "        .. versionadded:: 1.20.0\n",
      "\n",
      "    Returns\n",
      "    -------\n",
      "    out : ndarray\n",
      "        An array object satisfying the specified requirements.\n",
      "\n",
      "    See Also\n",
      "    --------\n",
      "    empty_like : Return an empty array with shape and type of input.\n",
      "    ones_like : Return an array of ones with shape and type of input.\n",
      "    zeros_like : Return an array of zeros with shape and type of input.\n",
      "    full_like : Return a new array with shape of input filled with value.\n",
      "    empty : Return a new uninitialized array.\n",
      "    ones : Return a new array setting values to one.\n",
      "    zeros : Return a new array setting values to zero.\n",
      "    full : Return a new array of given shape filled with value.\n",
      "\n",
      "\n",
      "    Notes\n",
      "    -----\n",
      "    When order is 'A' and ``object`` is an array in neither 'C' nor 'F' order,\n",
      "    and a copy is forced by a change in dtype, then the order of the result is\n",
      "    not necessarily 'C' as expected. This is likely a bug.\n",
      "\n",
      "    Examples\n",
      "    --------\n",
      "    >>> np.array([1, 2, 3])\n",
      "    array([1, 2, 3])\n",
      "\n",
      "    Upcasting:\n",
      "\n",
      "    >>> np.array([1, 2, 3.0])\n",
      "    array([ 1.,  2.,  3.])\n",
      "\n",
      "    More than one dimension:\n",
      "\n",
      "    >>> np.array([[1, 2], [3, 4]])\n",
      "    array([[1, 2],\n",
      "           [3, 4]])\n",
      "\n",
      "    Minimum dimensions 2:\n",
      "\n",
      "    >>> np.array([1, 2, 3], ndmin=2)\n",
      "    array([[1, 2, 3]])\n",
      "\n",
      "    Type provided:\n",
      "\n",
      "    >>> np.array([1, 2, 3], dtype=complex)\n",
      "    array([ 1.+0.j,  2.+0.j,  3.+0.j])\n",
      "\n",
      "    Data-type consisting of more than one element:\n",
      "\n",
      "    >>> x = np.array([(1,2),(3,4)],dtype=[('a','<i4'),('b','<i4')])\n",
      "    >>> x['a']\n",
      "    array([1, 3])\n",
      "\n",
      "    Creating an array from sub-classes:\n",
      "\n",
      "    >>> np.array(np.mat('1 2; 3 4'))\n",
      "    array([[1, 2],\n",
      "           [3, 4]])\n",
      "\n",
      "    >>> np.array(np.mat('1 2; 3 4'), subok=True)\n",
      "    matrix([[1, 2],\n",
      "            [3, 4]])\n",
      "\n"
     ]
    }
   ],
   "source": [
    "import numpy as np\n",
    "help(np.array)"
   ]
  },
  {
   "cell_type": "code",
   "execution_count": 6,
   "metadata": {},
   "outputs": [
    {
     "data": {
      "text/plain": [
       "[0, 0, 0, 0]"
      ]
     },
     "execution_count": 6,
     "metadata": {},
     "output_type": "execute_result"
    }
   ],
   "source": [
    "factor = [0]*(3 + 1)\n",
    "factor"
   ]
  },
  {
   "cell_type": "markdown",
   "metadata": {},
   "source": [
    "\n",
    "\n",
    "\n",
    "# i Find all factors of a natural number"
   ]
  },
  {
   "cell_type": "code",
   "execution_count": 3,
   "metadata": {
    "scrolled": true
   },
   "outputs": [
    {
     "ename": "ModuleNotFoundError",
     "evalue": "No module named 'factorcalc'",
     "output_type": "error",
     "traceback": [
      "\u001b[1;31m---------------------------------------------------------------------------\u001b[0m",
      "\u001b[1;31mModuleNotFoundError\u001b[0m                       Traceback (most recent call last)",
      "\u001b[1;32m<ipython-input-3-3b17aa241758>\u001b[0m in \u001b[0;36m<module>\u001b[1;34m\u001b[0m\n\u001b[1;32m----> 1\u001b[1;33m \u001b[1;32mimport\u001b[0m \u001b[0mfactorcalc\u001b[0m\u001b[1;33m\u001b[0m\u001b[1;33m\u001b[0m\u001b[0m\n\u001b[0m",
      "\u001b[1;31mModuleNotFoundError\u001b[0m: No module named 'factorcalc'"
     ]
    }
   ],
   "source": [
    "import factorcalc"
   ]
  },
  {
   "cell_type": "code",
   "execution_count": 2,
   "metadata": {},
   "outputs": [
    {
     "name": "stdout",
     "output_type": "stream",
     "text": [
      "5\n",
      "1\n",
      "2\n",
      "3\n",
      "4\n"
     ]
    }
   ],
   "source": [
    "import math\n",
    "print(math.ceil(math.sqrt(25)))\n",
    "for i in range(1,5):\n",
    "    print(i)"
   ]
  },
  {
   "cell_type": "code",
   "execution_count": 5,
   "metadata": {},
   "outputs": [],
   "source": [
    "from math import ceil,floor"
   ]
  },
  {
   "cell_type": "code",
   "execution_count": 22,
   "metadata": {},
   "outputs": [
    {
     "ename": "NameError",
     "evalue": "name 'ceil' is not defined",
     "output_type": "error",
     "traceback": [
      "\u001b[1;31m---------------------------------------------------------------------------\u001b[0m",
      "\u001b[1;31mNameError\u001b[0m                                 Traceback (most recent call last)",
      "Cell \u001b[1;32mIn[22], line 1\u001b[0m\n\u001b[1;32m----> 1\u001b[0m ceil(\u001b[38;5;241m1.1\u001b[39m), ceil(\u001b[38;5;241m1\u001b[39m), floor(\u001b[38;5;241m1.1\u001b[39m), floor(\u001b[38;5;241m1\u001b[39m)\n",
      "\u001b[1;31mNameError\u001b[0m: name 'ceil' is not defined"
     ]
    }
   ],
   "source": [
    "ceil(1.1), ceil(1), floor(1.1), floor(1)"
   ]
  },
  {
   "cell_type": "code",
   "execution_count": 7,
   "metadata": {},
   "outputs": [
    {
     "data": {
      "text/plain": [
       "(-1, -1, -2, -1)"
      ]
     },
     "execution_count": 7,
     "metadata": {},
     "output_type": "execute_result"
    }
   ],
   "source": [
    "ceil(-1.1), ceil(-1), floor(-1.1), floor(-1)"
   ]
  },
  {
   "cell_type": "code",
   "execution_count": 10,
   "metadata": {
    "scrolled": true
   },
   "outputs": [
    {
     "name": "stdout",
     "output_type": "stream",
     "text": [
      "1 100.0\n",
      "2 50.0\n",
      "4 25.0\n",
      "5 20.0\n",
      "10\n"
     ]
    }
   ],
   "source": [
    "n=int(100)#int(input('Enter no'))\n",
    "import math\n",
    "for i in range(1,math.ceil(math.sqrt(n))+1):\n",
    "    if(n%i==0):\n",
    "        if (n/i==i):                      #because squrt has to be printed once only\n",
    "            print(i)\n",
    "        else:\n",
    "            print(i, n/i)"
   ]
  },
  {
   "cell_type": "markdown",
   "metadata": {},
   "source": [
    "# 2 Find the maximum and minimum element in an array\n"
   ]
  },
  {
   "cell_type": "code",
   "execution_count": 2,
   "metadata": {},
   "outputs": [
    {
     "data": {
      "text/plain": [
       "[3, 4, 5, 66, 22, 9, 55, 2, 88, 6]"
      ]
     },
     "execution_count": 2,
     "metadata": {},
     "output_type": "execute_result"
    }
   ],
   "source": [
    "arr=[3,4,5,66,22,9,55,2,88,6]\n",
    "arr"
   ]
  },
  {
   "cell_type": "code",
   "execution_count": 34,
   "metadata": {},
   "outputs": [
    {
     "name": "stdout",
     "output_type": "stream",
     "text": [
      "Minimum element is 2\n",
      "Maximum element is 88\n"
     ]
    }
   ],
   "source": [
    "'''M1 linear'''\n",
    "# Python program of above implementation\n",
    "# structure is used to return two values from minMax()\n",
    " \n",
    "class pair:\n",
    "    def __init__(self):\n",
    "        self.min = 0\n",
    "        self.max = 0\n",
    " \n",
    "def getMinMax(arr: list, n: int) -> pair:\n",
    "    minmax = pair()\n",
    "    minmax.min=arr[0]\n",
    "    minmax.max=arr[0]\n",
    "    \n",
    "    if arr_size==1:\n",
    "        minmax.min=minmax.max=arr[0]\n",
    "        return minmax\n",
    "  \n",
    "\n",
    "\n",
    "\n",
    "\n",
    "    for i in range(arr_size):\n",
    "        if (arr[i]<minmax.min):\n",
    "            minmax.min=arr[i]\n",
    "        if (arr[i]>minmax.max):\n",
    "            minmax.max=arr[i]\n",
    "    return minmax\n",
    " \n",
    "# Driver Code\n",
    "if __name__ == \"__main__\":\n",
    "    arr = [3,4,5,66,22,9,55,2,88,6]\n",
    "    arr_size = 10\n",
    "    minmax = getMinMax(arr, arr_size)\n",
    "    print(\"Minimum element is\", minmax.min)\n",
    "    print(\"Maximum element is\", minmax.max)"
   ]
  },
  {
   "cell_type": "code",
   "execution_count": 33,
   "metadata": {},
   "outputs": [
    {
     "data": {
      "text/plain": [
       "'M2 linear'"
      ]
     },
     "execution_count": 33,
     "metadata": {},
     "output_type": "execute_result"
    }
   ],
   "source": [
    "'''M2 linear''' using 2 variables"
   ]
  },
  {
   "cell_type": "markdown",
   "metadata": {},
   "source": [
    "# MAP()"
   ]
  },
  {
   "cell_type": "code",
   "execution_count": 9,
   "metadata": {},
   "outputs": [
    {
     "name": "stdout",
     "output_type": "stream",
     "text": [
      "<map object at 0x00000171ADE586D8>\n",
      "1\n",
      "4\n",
      "9\n",
      "16\n",
      "set()\n"
     ]
    }
   ],
   "source": [
    "def calculateSquare(n):\n",
    "    return n*n\n",
    "\n",
    "\n",
    "numbers = (1, 2, 3, 4)\n",
    "result = map(calculateSquare, numbers)      #numbers(array) goes into function\n",
    "print(result)\n",
    "for x in result:\n",
    "    print(x)\n",
    "\n",
    "\n",
    "numbersSquare = set(result)\n",
    "print(numbersSquare)\n"
   ]
  },
  {
   "cell_type": "markdown",
   "metadata": {},
   "source": [
    "# 3 Kth smallest element "
   ]
  },
  {
   "cell_type": "code",
   "execution_count": null,
   "metadata": {},
   "outputs": [],
   "source": [
    "def kthSmallest(self,arr, l, r, k):\n",
    "        arr.sort()\n",
    "        return arr[k-1]\n",
    "\n",
    "kthSmallest(arr, 0, n-1, k)"
   ]
  },
  {
   "cell_type": "markdown",
   "metadata": {},
   "source": [
    "# 4 Given an array which consists of only 0, 1 and 2. Sort the array without using any sorting algo\n"
   ]
  },
  {
   "cell_type": "code",
   "execution_count": null,
   "metadata": {},
   "outputs": [],
   "source": [
    "m1 sorted(arr)\n",
    "M2 store count in zero,one,two and print     arr= [0]*zero+[1]*one+[2]*two"
   ]
  },
  {
   "cell_type": "code",
   "execution_count": 60,
   "metadata": {},
   "outputs": [
    {
     "name": "stdout",
     "output_type": "stream",
     "text": [
      "[0, 0, 0, 0, 0]\n",
      "[0, 0, 0, 0, 0, 1, 1, 1, 1, 1]\n",
      "[0, 0, 0, 0, 0]\n"
     ]
    }
   ],
   "source": [
    "a=[0]*5\n",
    "print (a)\n",
    "print(a+[1]*5)\n",
    "print (a)"
   ]
  },
  {
   "cell_type": "code",
   "execution_count": 10,
   "metadata": {},
   "outputs": [
    {
     "name": "stdout",
     "output_type": "stream",
     "text": [
      "1\n",
      "5\n",
      "1 2 1 2 0\n",
      "1 2 1 2 0 \n"
     ]
    }
   ],
   "source": [
    "class Solution:\n",
    "    def sort012(self,arr,n):\n",
    "        # code here\n",
    "        one=two=zero=0\n",
    "        for i in range(len(arr)):\n",
    "            if (arr[i]==0):\n",
    "                zero+=zero\n",
    "            if (arr[i]==1):\n",
    "                one+=one\n",
    "            if (arr[i]==2):\n",
    "                two+=two\n",
    "        arr= [0]*zero+[1]*one+[2]*two\n",
    "        return arr\n",
    "        print(\"arr: \",arr)\n",
    "        \n",
    "if __name__ == '__main__':\n",
    "    t=int(input())\n",
    "    for _ in range(t):\n",
    "        n=int(input())\n",
    "        arr=[int(x) for x in input().strip().split()]\n",
    "        ob=Solution()\n",
    "        ob.sort012(arr,n)\n",
    "        for i in arr:\n",
    "            print(i, end=' ')\n",
    "        print()"
   ]
  },
  {
   "cell_type": "markdown",
   "metadata": {},
   "source": [
    "# Taking Input"
   ]
  },
  {
   "cell_type": "code",
   "execution_count": 79,
   "metadata": {},
   "outputs": [
    {
     "name": "stdout",
     "output_type": "stream",
     "text": [
      "2 3 4\n",
      "['2', '3', '4']\n"
     ]
    }
   ],
   "source": [
    "arr=[x for x in input().strip().split()]\n",
    "print(arr)"
   ]
  },
  {
   "cell_type": "markdown",
   "metadata": {},
   "source": [
    "# 5 Move all the negative elements to one side of the array \n"
   ]
  },
  {
   "cell_type": "code",
   "execution_count": 11,
   "metadata": {},
   "outputs": [
    {
     "data": {
      "text/plain": [
       "'abhi jeet'"
      ]
     },
     "execution_count": 11,
     "metadata": {},
     "output_type": "execute_result"
    }
   ],
   "source": [
    "\"abhi \\\n",
    "jeet\""
   ]
  },
  {
   "cell_type": "code",
   "execution_count": 12,
   "metadata": {
    "collapsed": true,
    "jupyter": {
     "outputs_hidden": true
    }
   },
   "outputs": [
    {
     "name": "stdout",
     "output_type": "stream",
     "text": [
      "6\n",
      "i= 6  , j=  0\n",
      "i= 6  , j=  1\n",
      "i= 6  , j=  2\n",
      "i= 6  , j=  3\n",
      "i= 6  , j=  4\n",
      "i= 6  , j=  5\n",
      "i= 5  , j=  0\n",
      "i= 5  , j=  1\n",
      "i= 5  , j=  2\n",
      "i= 5  , j=  3\n",
      "i= 5  , j=  4\n",
      "i= 5  , j=  5\n",
      "i= 4  , j=  0\n",
      "i= 4  , j=  1\n",
      "i= 4  , j=  2\n",
      "i= 4  , j=  3\n",
      "i= 4  , j=  4\n",
      "i= 4  , j=  5\n",
      "i= 3  , j=  0\n",
      "i= 3  , j=  1\n",
      "i= 3  , j=  2\n",
      "i= 3  , j=  3\n",
      "i= 3  , j=  4\n",
      "i= 3  , j=  5\n",
      "i= 2  , j=  0\n",
      "i= 2  , j=  1\n",
      "i= 2  , j=  2\n",
      "i= 2  , j=  3\n",
      "i= 2  , j=  4\n",
      "i= 2  , j=  5\n",
      "i= 1  , j=  0\n",
      "i= 1  , j=  1\n",
      "i= 1  , j=  2\n",
      "i= 1  , j=  3\n",
      "i= 1  , j=  4\n",
      "i= 1  , j=  5\n"
     ]
    }
   ],
   "source": [
    "#j   i\n",
    "arr=[-2,3,-4,-5,7,-2]\n",
    "n=len(arr)\n",
    "print(n)\n",
    "import numpy\n",
    "for i in range(n,0,-1):\n",
    "    for j in range(n):\n",
    "        print(\"i=\",i,\" , j= \",j)\n",
    "#         if i<=j:\n",
    "#             break"
   ]
  },
  {
   "cell_type": "code",
   "execution_count": 16,
   "metadata": {},
   "outputs": [
    {
     "name": "stdout",
     "output_type": "stream",
     "text": [
      "[-1, -3, -4, -5, -7, -8, 2, 6, 9]\n"
     ]
    }
   ],
   "source": [
    "''' m0 sort\n",
    "n^2\n",
    "M1\n",
    "'''\n",
    "def rearrange(arr ) :\n",
    "    #similar to quick sort\n",
    "    # lets take 2 pointers i on -, j on +, keep increasing i, keep j on + index. swap if i>j\n",
    "    j=0\n",
    "    for i in range(len(arr)):\n",
    "        for j in range(len(arr)):\n",
    "            if arr[i]<0:\n",
    "                if arr[j]>0:\n",
    "                    if i>j:\n",
    "                        arr[i],arr[j]=arr[j],arr[i]\n",
    "    print(arr)\n",
    " \n",
    "# Driver code\n",
    "arr = [-1, 2, -3, -4, -5, 6, -7, -8, 9]\n",
    "\n",
    "rearrange(arr)"
   ]
  },
  {
   "cell_type": "code",
   "execution_count": 17,
   "metadata": {},
   "outputs": [
    {
     "name": "stdout",
     "output_type": "stream",
     "text": [
      "[-1, -3, -7, 4, 5, 6, 2, 8, 9]\n"
     ]
    }
   ],
   "source": [
    "'''O(n) M2'''\n",
    "def rearrange(arr, n ) :\n",
    " \n",
    "    # Please refer partition() in\n",
    "    # below post\n",
    "    # https://www.geeksforgeeks.org / quick-sort / j = 0\n",
    "    j = 0\n",
    "    for i in range(0, n) :\n",
    "        if (arr[i] < 0) :\n",
    "            temp = arr[i]\n",
    "            arr[i] = arr[j]\n",
    "            arr[j]= temp\n",
    "            j = j + 1\n",
    "    print(arr)\n",
    "\n",
    "arr = [-1, 2, -3, 4, 5, 6, -7, 8, 9]\n",
    "n = len(arr)\n",
    "rearrange(arr, n)"
   ]
  },
  {
   "cell_type": "code",
   "execution_count": 27,
   "metadata": {},
   "outputs": [
    {
     "name": "stdout",
     "output_type": "stream",
     "text": [
      "-12 -3 -13 -5 -7 6 5 11 11 \n"
     ]
    }
   ],
   "source": [
    "'''m2 o(n)'''\n",
    "def shiftall(arr,left,right):\n",
    "\n",
    "  while left<=right:\n",
    "\n",
    "    if arr[left] < 0 and arr[right] < 0:\n",
    "      left+=1\n",
    "\n",
    "    elif arr[left]>0 and arr[right]<0:\n",
    "      arr[left], arr[right] = \\\n",
    "              arr[right],arr[left]\n",
    "      left+=1\n",
    "      right-=1\n",
    "\n",
    "    elif arr[left]>0 and arr[right]>0:\n",
    "      right-=1\n",
    "    else:\n",
    "      left+=1\n",
    "      right-=1\n",
    "       \n",
    "# Function to print the array\n",
    "def display(arr):\n",
    "  for i in range(len(arr)):\n",
    "    print(arr[i], end=\" \")\n",
    "  print()\n",
    "\n",
    "if __name__ == \"__main__\":\n",
    "  arr=[-12, 11, -13, -5, 6, -7, 5, -3, 11]\n",
    "  n=len(arr)\n",
    "  shiftall(arr,0,n-1)\n",
    "  display(arr)"
   ]
  },
  {
   "cell_type": "markdown",
   "metadata": {},
   "source": [
    "# 6 Find the Union and Intersection of the two sorted arrays."
   ]
  },
  {
   "cell_type": "code",
   "execution_count": 32,
   "metadata": {
    "collapsed": true,
    "jupyter": {
     "outputs_hidden": true
    }
   },
   "outputs": [
    {
     "name": "stdout",
     "output_type": "stream",
     "text": [
      "3 4\n"
     ]
    },
    {
     "ename": "ValueError",
     "evalue": "invalid literal for int() with base 10: '3 4'",
     "output_type": "error",
     "traceback": [
      "\u001b[1;31m---------------------------------------------------------------------------\u001b[0m",
      "\u001b[1;31mValueError\u001b[0m                                Traceback (most recent call last)",
      "\u001b[1;32m<ipython-input-32-9c236b4acc00>\u001b[0m in \u001b[0;36m<module>\u001b[1;34m\u001b[0m\n\u001b[0;32m     13\u001b[0m \u001b[1;31m#contributed by RavinderSinghPB\u001b[0m\u001b[1;33m\u001b[0m\u001b[1;33m\u001b[0m\u001b[1;33m\u001b[0m\u001b[0m\n\u001b[0;32m     14\u001b[0m \u001b[1;32mif\u001b[0m \u001b[0m__name__\u001b[0m\u001b[1;33m==\u001b[0m\u001b[1;34m'__main__'\u001b[0m\u001b[1;33m:\u001b[0m\u001b[1;33m\u001b[0m\u001b[1;33m\u001b[0m\u001b[0m\n\u001b[1;32m---> 15\u001b[1;33m     \u001b[0mt\u001b[0m\u001b[1;33m=\u001b[0m\u001b[0mint\u001b[0m\u001b[1;33m(\u001b[0m\u001b[0minput\u001b[0m\u001b[1;33m(\u001b[0m\u001b[1;33m)\u001b[0m\u001b[1;33m)\u001b[0m\u001b[1;33m\u001b[0m\u001b[1;33m\u001b[0m\u001b[0m\n\u001b[0m\u001b[0;32m     16\u001b[0m     \u001b[1;32mfor\u001b[0m \u001b[0m_\u001b[0m \u001b[1;32min\u001b[0m \u001b[0mrange\u001b[0m\u001b[1;33m(\u001b[0m\u001b[0mt\u001b[0m\u001b[1;33m)\u001b[0m\u001b[1;33m:\u001b[0m\u001b[1;33m\u001b[0m\u001b[1;33m\u001b[0m\u001b[0m\n\u001b[0;32m     17\u001b[0m \u001b[1;33m\u001b[0m\u001b[0m\n",
      "\u001b[1;31mValueError\u001b[0m: invalid literal for int() with base 10: '3 4'"
     ]
    }
   ],
   "source": [
    "'''M1 set()'''\n",
    "        c=a+b\n",
    "        d=set(c)\n",
    "        print len(d)"
   ]
  },
  {
   "cell_type": "code",
   "execution_count": null,
   "metadata": {},
   "outputs": [],
   "source": [
    "'''using np'''\n",
    "np.union1d(arr1, arr2)"
   ]
  },
  {
   "cell_type": "code",
   "execution_count": 33,
   "metadata": {},
   "outputs": [],
   "source": [
    "''''''\n",
    "A=list(set(a)|set(b)) # union\n",
    "B=list(set(a)&set(b)) # intersection"
   ]
  },
  {
   "cell_type": "code",
   "execution_count": 43,
   "metadata": {},
   "outputs": [],
   "source": [
    "def rotate( arr, n):\n",
    "    t=arr.pop()\n",
    "    print(t)\n",
    "    arr=[t]+(arr)\n",
    "    print(arr)\n",
    "\n",
    "def main():\n",
    "\n",
    "        a=[1,2,3,4,5]\n",
    "        n=len(a)\n",
    "        rotate(a, n)\n",
    "        print(*a)"
   ]
  },
  {
   "cell_type": "code",
   "execution_count": null,
   "metadata": {},
   "outputs": [],
   "source": [
    "def rotate(arr, n):\n",
    "    x = arr[n - 1]\n",
    "     \n",
    "    for i in range(n - 1, 0, -1):\n",
    "        arr[i] = arr[i - 1];\n",
    "         \n",
    "    arr[0] = x;\n",
    " \n",
    " \n",
    "# Driver function\n",
    "arr= [1, 2, 3, 4, 5]\n",
    "n = len(arr)\n",
    "print (\"Given array is\")\n",
    "for i in range(0, n):\n",
    "    print (arr[i], end = ' ')\n",
    " \n",
    "rotate(arr, n)\n",
    " \n",
    "print (\"\\nRotated array is\")\n",
    "for i in range(0, n):\n",
    "    print (arr[i], end = ' ')"
   ]
  },
  {
   "cell_type": "markdown",
   "metadata": {},
   "source": [
    "# 7\tWrite a program to cyclically rotate an array by one.\n"
   ]
  },
  {
   "cell_type": "code",
   "execution_count": null,
   "metadata": {},
   "outputs": [],
   "source": [
    "def rotate( arr, n):\n",
    "    t=arr[n-1]\n",
    "    for i in range(n-1,0,-1):\n",
    "        arr[i]=arr[i-1]\n",
    "    arr[0]=t\n",
    "    \n",
    "    return arr"
   ]
  },
  {
   "cell_type": "markdown",
   "metadata": {},
   "source": [
    "# 8 find Largest sum contiguous Subarray [V. IMP]\n"
   ]
  },
  {
   "cell_type": "code",
   "execution_count": null,
   "metadata": {},
   "outputs": [],
   "source": [
    "'''MY Correct but need to optimize the code O(n^2)'''\n",
    "class Solution:    \n",
    "    def maxSubArraySum(self,a,size):\n",
    "        max=a[0]\n",
    "        for i in range(size):\n",
    "            re=0\n",
    "            for j in range(i,size):     \n",
    "                re=a[j]+re\n",
    "                if re>max:\n",
    "                    max=re\n",
    "        return max"
   ]
  },
  {
   "cell_type": "code",
   "execution_count": 66,
   "metadata": {
    "collapsed": true,
    "jupyter": {
     "outputs_hidden": true
    }
   },
   "outputs": [
    {
     "name": "stdout",
     "output_type": "stream",
     "text": [
      "Maximum contiguous sum is -1\n"
     ]
    }
   ],
   "source": [
    "def maxSubArraySum(a,size):\n",
    "\t\n",
    "\tmax_so_far =a[0]\n",
    "\tcurr_max = a[0]\n",
    "\t\n",
    "\tfor i in range(1,size):\n",
    "\t\tcurr_max = max(a[i], curr_max + a[i])\n",
    "\t\tmax_so_far = max(max_so_far,curr_max)\n",
    "\treturn max_so_far\n",
    "\n",
    "a = [-13, -3, -25, -20, -1, -22, -15, -4, -7]\n",
    "print(\"Maximum contiguous sum is\" , maxSubArraySum(a,len(a)))"
   ]
  },
  {
   "cell_type": "code",
   "execution_count": 60,
   "metadata": {
    "collapsed": true,
    "jupyter": {
     "outputs_hidden": true
    }
   },
   "outputs": [
    {
     "name": "stdout",
     "output_type": "stream",
     "text": [
      "0\n",
      "1\n",
      "2\n",
      "3\n",
      "4\n",
      "5\n",
      "6\n",
      "7\n",
      "8\n",
      "Maximum contiguous sum is -1\n"
     ]
    }
   ],
   "source": [
    "''' O(n) Kadane's Algorithm '''\n",
    "def maxSubArraySum(a,size):\n",
    " \n",
    "    max_so_far = a[0]   #max\n",
    "    max_ending_here = 0 #sum\n",
    "\n",
    "    for i in range(0, size):\n",
    "        max_ending_here = max_ending_here + a[i]\n",
    "        print(i)\n",
    "        if (max_so_far < max_ending_here):\n",
    "            max_so_far = max_ending_here\n",
    "\n",
    "        if max_ending_here < 0:\n",
    "            max_ending_here = 0\n",
    "    return max_so_far\n",
    "\n",
    "a = [-13, -3, -25, -20, -1, -22, -15, -4, -7]\n",
    "print (\"Maximum contiguous sum is\", maxSubArraySum(a,len(a)))"
   ]
  },
  {
   "cell_type": "code",
   "execution_count": 72,
   "metadata": {},
   "outputs": [
    {
     "name": "stdout",
     "output_type": "stream",
     "text": [
      "9\n"
     ]
    }
   ],
   "source": [
    "'''MY'''\n",
    "def summ(arr):\n",
    "    max=arr[0]\n",
    "    sum=0\n",
    "    for i in range(len(arr)):\n",
    "        sum=sum+ arr[i]\n",
    "        if sum>max:\n",
    "            max=sum\n",
    "        if sum<0:\n",
    "            sum=0\n",
    "\n",
    "    print(max)\n",
    "ar=[1,2,3,-2,5]\n",
    "summ(ar)"
   ]
  },
  {
   "cell_type": "markdown",
   "metadata": {},
   "source": [
    "# 9 Minimise the maximum difference between heights [V.IMP]\n"
   ]
  },
  {
   "cell_type": "code",
   "execution_count": 15,
   "metadata": {},
   "outputs": [
    {
     "name": "stdout",
     "output_type": "stream",
     "text": [
      "11\n"
     ]
    }
   ],
   "source": [
    "''' MY'''\n",
    "def getMinDiff( arr, n, k):\n",
    "        a=arr.sort()\n",
    "        return max(arr)-min(arr)-2*k\n",
    "\n",
    "if __name__ == '__main__':\n",
    "    k = 3\n",
    "    n = 5\n",
    "    arr = [3, 9, 12, 16, 20]        \n",
    "    ans = getMinDiff(arr, n, k)\n",
    "    print(ans)     "
   ]
  },
  {
   "cell_type": "code",
   "execution_count": 181,
   "metadata": {},
   "outputs": [
    {
     "name": "stdout",
     "output_type": "stream",
     "text": [
      "[6, 2, 2, 2, 3, 3, 4, 6, 7, 10]\n",
      "i =  1\n",
      "i =  2\n",
      "i =  3\n",
      "i =  4\n",
      "i =  5\n",
      "i =  6\n",
      "ei =  7\n",
      "ei =  8\n",
      "ei =  9\n",
      "[6, 7, 7, 7, 8, 8, 9, 1, 2, 5]\n",
      "8\n"
     ]
    }
   ],
   "source": [
    "'''\n",
    "MY give 1 test case wrong, wrong implementation'''\n",
    "def getMinDiff( arr, n, k):\n",
    "        # code here\n",
    "        arr.sort()\n",
    "        \n",
    "        arr[0]+=k\n",
    "        print(arr)\n",
    "        for i in range(1,n):\n",
    "            if arr[i]-k<0:# or arr[i]-k<arr[0]+k:\n",
    "                arr[i]=arr[i]+k\n",
    "                print('i = ',i)\n",
    "            else:\n",
    "                arr[i]-=k\n",
    "                print('ei = ',i)\n",
    "            \n",
    "        print(arr)\n",
    "        arr.sort()\n",
    "       \n",
    "        return max(arr)-min(arr)\n",
    "\n",
    "if __name__ == '__main__':\n",
    "        k = 5\n",
    "        n = 10\n",
    "        arr = [2 ,6, 3, 4, 7, 2, 10, 3, 2, 1]        \n",
    "        ans = getMinDiff(arr, n, k)\n",
    "        print(ans)     "
   ]
  },
  {
   "cell_type": "code",
   "execution_count": 13,
   "metadata": {},
   "outputs": [
    {
     "name": "stdout",
     "output_type": "stream",
     "text": [
      "arr :  [1, 2, 2, 2, 3, 3, 4, 6, 7, 10]\n",
      "ans :  9\n",
      "[1, 2, 2, 2, 3, 3, 4, 6, 7, 10]\n",
      "12 5\n",
      "7 final\n"
     ]
    }
   ],
   "source": [
    "def getMinDiff(arr, n, k):\n",
    "        arr.sort()  #sorting the array\n",
    "        print('arr : ',arr)\n",
    "        ans=arr[n-1]-arr[0] #it's same as substracting an+k-(ao+k) or an-k-(a0-k)\n",
    "        print('ans : ',ans)\n",
    "        small,big=0,0\n",
    "         \n",
    "        for i in range(1,n):#trying to make each tower highest\n",
    "          small=min(arr[0]+k,arr[i]-k) #finding minimum tower height\n",
    "          #print(\"0 :\",arr[0],\" i :\",arr[i]-k,\" small :\",small)\n",
    "          big=max(arr[i-1]+k,arr[-1]-k) #finding maximum tower height\n",
    "          ans=min(ans,big-small) #checking whether we get smaller value as result\n",
    "        print(arr)\n",
    "        print(big,small)\n",
    "        return ans\n",
    "arr=[2 ,6 ,3 ,4 ,7 ,2 ,10 ,3 ,2, 1]\n",
    "k=5\n",
    "print(getMinDiff(arr,len(arr),k),'final')"
   ]
  },
  {
   "cell_type": "markdown",
   "metadata": {},
   "source": [
    "# 10 Minimum no. of Jumps to reach end of an array\n"
   ]
  },
  {
   "cell_type": "code",
   "execution_count": 79,
   "metadata": {},
   "outputs": [
    {
     "name": "stdout",
     "output_type": "stream",
     "text": [
      "[1, 10, 10, 10, 10, 10]\n",
      "jump[j] :  1   1\n",
      "jump[j] :  2   2\n",
      "jump[j] :  3   2\n",
      "jump[j] :  4   2\n",
      "jump[j] :  5   2\n",
      "[1, 2, 3, 3, 3, 3]\n",
      "[[1], [2], [2], [2], [2]]\n",
      "2 6\n"
     ]
    }
   ],
   "source": [
    "def maxSumIS( arr, n):\n",
    "#     inx=arr[0]\n",
    "#     cnt=1\n",
    "    jump=[10]*n\n",
    "    jump[0]=1\n",
    "    print(jump)\n",
    "    jj=[]\n",
    "    for i in range(1,n):\n",
    "        for j in range(i):\n",
    "            if i<=j+arr[j]:\n",
    "                \n",
    "                jump[i]=min(jump[i],jump[j]+1)\n",
    "                print('jump[j] : ',i,' ',jump[j])\n",
    "                jj.append([jump[j]])\n",
    "                break\n",
    "    \n",
    "    print(jump)\n",
    "    print(jj)\n",
    "    print(jj[n-2][0], len(arr))\n",
    "    #print(jump[n-1])    \n",
    "        \n",
    "if __name__ == '__main__':\n",
    "    Arr = [1, 4, 3, 2, 6, 7]\n",
    "    n = len(Arr)\n",
    "    maxSumIS( Arr, n)"
   ]
  },
  {
   "cell_type": "code",
   "execution_count": 25,
   "metadata": {},
   "outputs": [
    {
     "name": "stdout",
     "output_type": "stream",
     "text": [
      "jjup  [0, inf, 0, 0, 0, 0]\n",
      "jjup  [0, 1, inf, 0, 0, 0]\n",
      "jjup  [0, 1, 2, inf, 0, 0]\n",
      "jjup  [0, 1, 2, 2, inf, 0]\n",
      "jjup  [0, 1, 2, 2, 2, inf]\n",
      "Minimum number of jumps to reach end is 3\n"
     ]
    }
   ],
   "source": [
    "def minJumps(arr, n):\n",
    "    jumps = [0 for i in range(n)]\n",
    "\n",
    "    if (n == 0) or (arr[0] == 0):\n",
    "        return float('inf')\n",
    "\n",
    "    jumps[0] = 0\n",
    "\n",
    "    for i in range(1, n):\n",
    "\n",
    "        jumps[i] = float('inf')\n",
    "\n",
    "        print(\"jjup \",jumps)\n",
    "        for j in range(i):\n",
    "            if (i <= j + arr[j]) and (jumps[j] != float('inf')):\n",
    "                jumps[i] = min(jumps[i], jumps[j] + 1)\n",
    "                break\n",
    "    return jumps[n-1]\n",
    "\n",
    "arr = [1, 3, 6, 1, 0, 9]\n",
    "size = len(arr)\n",
    "print('Minimum number of jumps to reach',\n",
    "    'end is', minJumps(arr, size))"
   ]
  },
  {
   "cell_type": "markdown",
   "metadata": {},
   "source": [
    "# 11 find duplicate in an array of N+1 Integers\n"
   ]
  },
  {
   "cell_type": "code",
   "execution_count": 118,
   "metadata": {},
   "outputs": [
    {
     "name": "stdout",
     "output_type": "stream",
     "text": [
      "2\n"
     ]
    }
   ],
   "source": [
    "'''o(n^2)'''\n",
    "nums = [1,3,4,2,2]\n",
    "nums.count(3)\n",
    "for i in range(len(nums)):\n",
    "    if (nums.count(nums[i]))==2:\n",
    "        print (nums[i])\n",
    "        break"
   ]
  },
  {
   "cell_type": "code",
   "execution_count": 123,
   "metadata": {},
   "outputs": [
    {
     "data": {
      "text/plain": [
       "2"
      ]
     },
     "execution_count": 123,
     "metadata": {},
     "output_type": "execute_result"
    }
   ],
   "source": [
    "'''o(2n)'''\n",
    "nums = [1,3,4,2,2]\n",
    "sum(nums)-sum(list(set(nums)))"
   ]
  },
  {
   "cell_type": "code",
   "execution_count": 129,
   "metadata": {},
   "outputs": [
    {
     "data": {
      "text/plain": [
       "2.0"
      ]
     },
     "execution_count": 129,
     "metadata": {},
     "output_type": "execute_result"
    }
   ],
   "source": [
    "'''n'''\n",
    "nums = [1,3,4,2,2]\n",
    "n=len(nums)-1\n",
    "sum(nums)-((n*(n+1))/2)"
   ]
  },
  {
   "cell_type": "markdown",
   "metadata": {},
   "source": [
    "# 13 Kadane's Algo [V.V.V.V.V IMP] Repeat\n"
   ]
  },
  {
   "cell_type": "code",
   "execution_count": null,
   "metadata": {},
   "outputs": [],
   "source": [
    "def maxSubArraySum(a,size):\n",
    "        max=a[0]\n",
    "        re=0\n",
    "        for i in range(0,size):\n",
    "            re=re+a[i]\n",
    "            if re<0:\n",
    "                re=0\n",
    "                #print('re<0 i= ',i)\n",
    "            if re>max:\n",
    "                max=re\n",
    "        \n",
    "        return max"
   ]
  },
  {
   "cell_type": "markdown",
   "metadata": {},
   "source": [
    "# 14 Merge Intervals\n"
   ]
  },
  {
   "cell_type": "code",
   "execution_count": 45,
   "metadata": {},
   "outputs": [
    {
     "ename": "NameError",
     "evalue": "name 'List' is not defined",
     "output_type": "error",
     "traceback": [
      "\u001b[1;31m---------------------------------------------------------------------------\u001b[0m",
      "\u001b[1;31mNameError\u001b[0m                                 Traceback (most recent call last)",
      "\u001b[1;32m<ipython-input-45-1ae81ee97d09>\u001b[0m in \u001b[0;36m<module>\u001b[1;34m\u001b[0m\n\u001b[0;32m      1\u001b[0m \u001b[1;34m'''MY'''\u001b[0m\u001b[1;33m\u001b[0m\u001b[1;33m\u001b[0m\u001b[0m\n\u001b[1;32m----> 2\u001b[1;33m \u001b[1;32mdef\u001b[0m \u001b[0mmerge\u001b[0m\u001b[1;33m(\u001b[0m\u001b[0mself\u001b[0m\u001b[1;33m,\u001b[0m \u001b[0mintervals\u001b[0m\u001b[1;33m:\u001b[0m \u001b[0mList\u001b[0m\u001b[1;33m[\u001b[0m\u001b[0mList\u001b[0m\u001b[1;33m[\u001b[0m\u001b[0mint\u001b[0m\u001b[1;33m]\u001b[0m\u001b[1;33m]\u001b[0m\u001b[1;33m)\u001b[0m \u001b[1;33m->\u001b[0m \u001b[0mList\u001b[0m\u001b[1;33m[\u001b[0m\u001b[0mList\u001b[0m\u001b[1;33m[\u001b[0m\u001b[0mint\u001b[0m\u001b[1;33m]\u001b[0m\u001b[1;33m]\u001b[0m\u001b[1;33m:\u001b[0m\u001b[1;33m\u001b[0m\u001b[1;33m\u001b[0m\u001b[0m\n\u001b[0m\u001b[0;32m      3\u001b[0m     \u001b[0mintervals\u001b[0m\u001b[1;33m.\u001b[0m\u001b[0msort\u001b[0m\u001b[1;33m(\u001b[0m\u001b[1;33m)\u001b[0m\u001b[1;33m\u001b[0m\u001b[1;33m\u001b[0m\u001b[0m\n\u001b[0;32m      4\u001b[0m     \u001b[0mi\u001b[0m\u001b[1;33m=\u001b[0m\u001b[1;36m0\u001b[0m\u001b[1;33m\u001b[0m\u001b[1;33m\u001b[0m\u001b[0m\n\u001b[0;32m      5\u001b[0m \u001b[1;33m\u001b[0m\u001b[0m\n",
      "\u001b[1;31mNameError\u001b[0m: name 'List' is not defined"
     ]
    }
   ],
   "source": [
    "'''MY'''\n",
    "def merge(self, intervals: List[List[int]]) -> List[List[int]]:\n",
    "    intervals.sort()\n",
    "    i=0\n",
    "\n",
    "    while(i<len(intervals)-1):\n",
    "\n",
    "        if intervals[i][1]>=intervals[i+1][1]:\n",
    "            intervals.remove(intervals[i+1])\n",
    "            continue\n",
    "\n",
    "        if intervals[i][1]>=intervals[i+1][0]:\n",
    "            t=intervals[i+1][1]\n",
    "            intervals.remove(intervals[i+1])\n",
    "            intervals[i][1]=t\n",
    "            continue\n",
    "\n",
    "        i+=1\n",
    "    return intervals\n",
    "\n",
    "'''\n",
    "#solution leetcode\n",
    "def merge(self, intervals):\n",
    "    intervals.sort()\n",
    "    res = [intervals[0]]\n",
    "    for i in range(1, len(intervals)):\n",
    "        if intervals[i][0] <= res[-1][1]:\n",
    "            res[-1][1] = max(intervals[i][1],res[-1][1])\n",
    "        else:\n",
    "            res.append(intervals[i])\n",
    "    return res\n",
    "'''"
   ]
  },
  {
   "cell_type": "code",
   "execution_count": 232,
   "metadata": {},
   "outputs": [
    {
     "name": "stdout",
     "output_type": "stream",
     "text": [
      "The Merged Intervals are : [0, 5] "
     ]
    }
   ],
   "source": [
    "# Python3 program to merge overlapping Intervals\n",
    "# in O(n Log n) time and O(1) extra space\n",
    "def mergeIntervals(arr):\n",
    "\t\t\n",
    "\t\t# Sorting based on the increasing order\n",
    "\t\t# of the start intervals\n",
    "\t\tarr.sort(key = lambda x: x[0])\n",
    "\t\t\n",
    "\t\t# array to hold the merged intervals\n",
    "\t\tm = []\n",
    "\t\ts = -10000\n",
    "\t\tmax = -100000\n",
    "\t\tfor i in range(len(arr)):\n",
    "\t\t\ta = arr[i]\n",
    "\t\t\tif a[0] > max:\n",
    "\t\t\t\tif i != 0:\n",
    "\t\t\t\t\tm.append([s,max])\n",
    "\t\t\t\tmax = a[1]\n",
    "\t\t\t\ts = a[0]\n",
    "\t\t\telse:\n",
    "\t\t\t\tif a[1] >= max:\n",
    "\t\t\t\t\tmax = a[1]\n",
    "\t\t\n",
    "\t\t#'max' value gives the last point of\n",
    "\t\t# that particular interval\n",
    "\t\t# 's' gives the starting point of that interval\n",
    "\t\t# 'm' array contains the list of all merged intervals\n",
    "\n",
    "\t\tif max != -100000 and [s, max] not in m:\n",
    "\t\t\tm.append([s, max])\n",
    "\t\tprint(\"The Merged Intervals are :\", end = \" \")\n",
    "\t\tfor i in range(len(m)):\n",
    "\t\t\tprint(m[i], end = \" \")\n",
    "\n",
    "# Driver code\n",
    "arr = [[1,4],[0,2],[3,5]]\n",
    "mergeIntervals(arr)\n",
    "\n",
    "# This code is contributed\n",
    "# by thirumalai srinivasan\n"
   ]
  },
  {
   "cell_type": "markdown",
   "metadata": {},
   "source": [
    "# 15 Next Permutation\n"
   ]
  },
  {
   "cell_type": "code",
   "execution_count": 26,
   "metadata": {},
   "outputs": [
    {
     "name": "stdout",
     "output_type": "stream",
     "text": [
      "[[1, 2, 3], [1, 3, 2], [2, 1, 3], [2, 3, 1], [3, 1, 2], [3, 2, 1]]\n",
      "[2, 1, 3]\n"
     ]
    }
   ],
   "source": [
    "'''MY n^2 '''\n",
    "a=[1,3,2]\n",
    "import itertools\n",
    "b=[]\n",
    "for i in itertools.permutations(a):\n",
    "    b=b+[list(i)]\n",
    "    \n",
    "b.sort()\n",
    "print(b)\n",
    "c=0\n",
    "for i in b:\n",
    "    c+=1\n",
    "    if a==i:\n",
    "        if c>=len(nums):\n",
    "            print(b[0])\n",
    "            break\n",
    "        print(b[b.index(i)+1])"
   ]
  },
  {
   "cell_type": "markdown",
   "metadata": {},
   "source": [
    "# 16 Count Inversion\n"
   ]
  },
  {
   "cell_type": "code",
   "execution_count": 330,
   "metadata": {},
   "outputs": [
    {
     "name": "stdout",
     "output_type": "stream",
     "text": [
      "hello\n"
     ]
    }
   ],
   "source": [
    "'''n^2  itme limit exceeded\n",
    "MY\n",
    "\n",
    "'''\n",
    "        cnt=0\n",
    "        for i in range(n):\n",
    "            for j in range(i+1,n):\n",
    "                if a[i]>a[j] and i<j:\n",
    "                    cnt+=1\n",
    "        return cnt"
   ]
  },
  {
   "cell_type": "code",
   "execution_count": 27,
   "metadata": {},
   "outputs": [
    {
     "name": "stdout",
     "output_type": "stream",
     "text": [
      "238\n"
     ]
    }
   ],
   "source": [
    "'''n+cnt  \n",
    "find way to do without sorting\n",
    "'''\n",
    "def inversionCount( arr, n):\n",
    "    cnt=0\n",
    "    \n",
    "\n",
    "    i=0\n",
    "    while(i<n):\n",
    "            if i==n-1:\n",
    "                break\n",
    "            if i==0 and a[i]>a[i+1]:\n",
    "                cnt+=1\n",
    "                a[i],a[i+1]=a[i+1],a[i]\n",
    "                i=0\n",
    "                continue\n",
    "            if a[i]>a[i+1] and i<=2:                      \n",
    "                cnt+=1\n",
    "                a[i],a[i+1]=a[i+1],a[i]\n",
    "                i=0\n",
    "                continue\n",
    "\n",
    "            if a[i]>a[i+1] and i>2:                      #this case is so imp\n",
    "                cnt+=1\n",
    "                a[i],a[i+1]=a[i+1],a[i]\n",
    "                i-=3\n",
    "                continue\n",
    "            else:\n",
    "                i+=1\n",
    "        #print(arr,cnt)\n",
    "    print( cnt)\n",
    "\n",
    "a=[174,165,142,212,254,369,48,145,163,258,38,360,224,242,30,279,317,36,191,343,289,107,41,443,265,149,447,306,391,230,371,351,7,102]\n",
    "#a=[30, 36, 7, 38, 41, 48, 107, 142, 145, 149, 163, 165, 174, 191, 212, 224, 230, 242, 254, 258, 265, 279, 289, 306, 317, 343, 351, 360, 369, 371, 391, 443, 447, 102]\n",
    "n=len(a)\n",
    "#print('n',n)\n",
    "inversionCount(a,n)\n"
   ]
  },
  {
   "cell_type": "code",
   "execution_count": 29,
   "metadata": {},
   "outputs": [
    {
     "name": "stdout",
     "output_type": "stream",
     "text": [
      "7489\n"
     ]
    }
   ],
   "source": [
    "'''n+cnt  \n",
    "find way to do without sorting\n",
    "'''\n",
    "def inversionCount( arr, n):\n",
    "    # Your Code Here\n",
    "    #print(arr,n)\n",
    "    cnt=0\n",
    "    sum=0\n",
    "\n",
    "    for i in range(n):\n",
    "        sum=sum+arr[i]\n",
    "\n",
    "    print( sum)\n",
    "\n",
    "a=[174,165,142,212,254,369,48,145,163,258,38,360,224,242,30,279,317,36,191,343,289,107,41,443,265,149,447,306,391,230,371,351,7,102]\n",
    "#a=[30, 36, 7, 38, 41, 48, 107, 142, 145, 149, 163, 165, 174, 191, 212, 224, 230, 242, 254, 258, 265, 279, 289, 306, 317, 343, 351, 360, 369, 371, 391, 443, 447, 102]\n",
    "n=len(a)\n",
    "#print('n',n)\n",
    "inversionCount(a,n)\n"
   ]
  },
  {
   "cell_type": "markdown",
   "metadata": {},
   "source": [
    "# 17 Best time to buy and Sell stock\n"
   ]
  },
  {
   "cell_type": "code",
   "execution_count": 501,
   "metadata": {},
   "outputs": [
    {
     "name": "stdout",
     "output_type": "stream",
     "text": [
      "max :  7\n",
      "min :  1\n",
      "6\n"
     ]
    }
   ],
   "source": [
    "def maxProfit(self, prices: List[int]) -> int:\n",
    "    min_price = prices[0]\n",
    "    max_profit = 0      \n",
    "    for j in range(1, len(prices)):\n",
    "        if prices[j] < min_price:\n",
    "            min_price = prices[j]\n",
    "        elif prices[j] - min_price > max_profit:\n",
    "            max_profit = prices[j] - min_price\n",
    "    return max_profit"
   ]
  },
  {
   "cell_type": "code",
   "execution_count": 58,
   "metadata": {},
   "outputs": [
    {
     "name": "stdout",
     "output_type": "stream",
     "text": [
      "5\n"
     ]
    }
   ],
   "source": [
    "a=[7,1,5,3,6,4]\n",
    "minn=maxx=a[0]\n",
    "remin=remax=0\n",
    "minn=min(a)\n",
    "# for i in a[a.index(min(a)):]:\n",
    "#     if i>maxx:\n",
    "#         maxx=i\n",
    "maxx=max(a[minn:])\n",
    "print(maxx-minn)"
   ]
  },
  {
   "cell_type": "markdown",
   "metadata": {},
   "source": [
    "# 18 find all pairs on integer array whose sum is equal to given number\n"
   ]
  },
  {
   "cell_type": "code",
   "execution_count": 527,
   "metadata": {},
   "outputs": [
    {
     "name": "stdout",
     "output_type": "stream",
     "text": [
      "i 0 j 1\n",
      "i 0 j 2\n",
      "i 0 j 3\n",
      "i 1 j 2\n",
      "i 1 j 3\n",
      "i 2 j 3\n",
      "6\n"
     ]
    }
   ],
   "source": [
    "'''MY n^2'''\n",
    "a=[1, 1, 1, 1]\n",
    "n=len(a)\n",
    "k=2\n",
    "cnt=0\n",
    "for i in range(n):\n",
    "    for j in range(i+1,n):\n",
    "        print('i',i,'j',j)\n",
    "        if a[i]+a[j]==k:\n",
    "            cnt+=1\n",
    "        #if a[i]+a[j]>k:\n",
    "            \n",
    "print(cnt)"
   ]
  },
  {
   "cell_type": "code",
   "execution_count": 32,
   "metadata": {},
   "outputs": [
    {
     "name": "stdout",
     "output_type": "stream",
     "text": [
      "0 i 3 n\n",
      "i 1\n",
      "1 i 3 n\n",
      "i 2\n",
      "2 i 3 n\n",
      "i 3\n",
      "[1, 1, 1, 1]\n",
      "3\n"
     ]
    }
   ],
   "source": [
    "a=[1, 1, 1, 1]\n",
    "n=len(a)\n",
    "k=2\n",
    "cnt=0\n",
    "a.sort()\n",
    "i=0\n",
    "n=n-1\n",
    "while(i<n):\n",
    "    if a[i]+a[n]==k:\n",
    "        cnt+=1\n",
    "        i+=1\n",
    "        print('i',i)\n",
    "    if a[i]+a[n]<k:\n",
    "        i+=1\n",
    "    if a[i]+a[n]>k:\n",
    "        n-=1\n",
    "print(a)\n",
    "print(cnt)"
   ]
  },
  {
   "cell_type": "code",
   "execution_count": 583,
   "metadata": {},
   "outputs": [
    {
     "name": "stdout",
     "output_type": "stream",
     "text": [
      "i 0\n",
      "i 1\n",
      "i 2\n",
      "i 3\n",
      "i 4\n",
      "[0, 1, 0, 0, 0, 2, 0, 1, 0, 1]\n",
      "6\n",
      "Count of pairs is 3\n"
     ]
    }
   ],
   "source": [
    "# Python 3 implementation of simple method\n",
    "# to find count of pairs with given sum.\n",
    "import sys\n",
    "\n",
    "# Returns number of pairs in arr[0..n-1]\n",
    "# with sum equal to 'sum'\n",
    "\n",
    "\n",
    "def getPairsCount(arr, n, sum):\n",
    "\n",
    "\tm = [0] * (max(arr)+1)\n",
    "\n",
    "\t# Store counts of all elements in map m\n",
    "\tfor i in range(0, n):\n",
    "\t\tm[arr[i]] += 1\n",
    "\t\tprint('i',i)\n",
    "\tprint(m)\n",
    "\n",
    "\ttwice_count = 0\n",
    "\n",
    "\t# Iterate through each element and increment\n",
    "\t# the count (Notice that every pair is\n",
    "\t# counted twice)\n",
    "\tfor i in range(0, n):\n",
    "\n",
    "\t\ttwice_count += m[sum - arr[i]]\n",
    "\n",
    "\t\t# if (arr[i], arr[i]) pair satisfies the\n",
    "\t\t# condition, then we need to ensure that\n",
    "\t\t# the count is decreased by one such\n",
    "\t\t# that the (arr[i], arr[i]) pair is not\n",
    "\t\t# considered\n",
    "\t\tif (sum - arr[i] == arr[i]):\n",
    "\t\t\ttwice_count -= 1\n",
    "\n",
    "\t# return the half of twice_count\n",
    "\t#print(m)\n",
    "\tprint(twice_count)\n",
    "\treturn int(twice_count / 2)\n",
    "\n",
    "\n",
    "\n",
    "# Driver function\n",
    "arr = [1, 5, 7, 5,9]\n",
    "n = len(arr)\n",
    "sum = 6\n",
    "\n",
    "print(\"Count of pairs is\", getPairsCount(arr,n, sum))\n",
    "\n",
    "# This code is contributed by\n",
    "# Smitha Dinesh Semwal\n"
   ]
  },
  {
   "cell_type": "markdown",
   "metadata": {},
   "source": [
    "# 19 find common elements In 3 sorted arrays\n"
   ]
  },
  {
   "cell_type": "code",
   "execution_count": 61,
   "metadata": {},
   "outputs": [
    {
     "name": "stdout",
     "output_type": "stream",
     "text": [
      "1\n",
      "5\n",
      "10\n",
      "20\n",
      "40\n",
      "80\n"
     ]
    }
   ],
   "source": [
    "i=0\n",
    "while(i<n1):\n",
    "    print(A[i])\n",
    "    i+=1"
   ]
  },
  {
   "cell_type": "code",
   "execution_count": 47,
   "metadata": {},
   "outputs": [
    {
     "name": "stdout",
     "output_type": "stream",
     "text": [
      "[20, 80]\n"
     ]
    }
   ],
   "source": [
    "'''MY       for some test case wrong'''\n",
    "n1 = 6; A = {1, 5, 10, 20, 40, 80}\n",
    "n2 = 5; B = {6, 7, 20, 80, 100}\n",
    "n3 = 8; C = {3, 4, 15, 20, 30, 70, 80, 120}\n",
    "A=list(A)\n",
    "A.sort()\n",
    "B=list(B)\n",
    "B.sort()\n",
    "C=list(C)\n",
    "C.sort()\n",
    "\n",
    "res=[]\n",
    "i=j=k=0\n",
    "\n",
    "while(i<n1 and j<n2 and k<n3):\n",
    "    #print('i',i,'j',j,'k',k)\n",
    "\n",
    "    if A[i]==B[j]==C[k]:\n",
    "        #print(A[i])\n",
    "        if A[i] not in res:            #handling duplicates\n",
    "            res.append(A[i])\n",
    "        if i==n1:\n",
    "             i-=1\n",
    "        if j==n2:\n",
    "            j-=1\n",
    "        if k==n3:\n",
    "            k-=1\n",
    "        i+=1\n",
    "        j+=1\n",
    "        k+=1\n",
    "\n",
    "        continue\n",
    "    #print('i',i,'j',j)\n",
    "    if A[i]<B[j]:\n",
    "        if i==n1:  \n",
    "            i-=1\n",
    "        i+=1\n",
    "    elif A[i]>B[j]:\n",
    "        if j==n2:\n",
    "            j-=1\n",
    "        j+=1  \n",
    "    elif A[i]<C[k]:\n",
    "        if i==n1:\n",
    "            i-=1\n",
    "        i+=1#\n",
    "    elif A[i]>C[k]:\n",
    "        if k==n3:\n",
    "            k-=1\n",
    "        k+=1\n",
    "#import numpy as np\n",
    "print( res )#np.unique(res)"
   ]
  },
  {
   "cell_type": "code",
   "execution_count": 53,
   "metadata": {},
   "outputs": [
    {
     "name": "stdout",
     "output_type": "stream",
     "text": [
      "20\n",
      "80\n"
     ]
    }
   ],
   "source": [
    "def findCommon(ar1, ar2, ar3, n1, n2, n3):\n",
    "\ti, j, k = 0, 0, 0\n",
    "\twhile (i < n1 and j < n2 and k< n3):\n",
    "\t\tif (ar1[i] == ar2[j] and ar2[j] == ar3[k]):\n",
    "\t\t\tprint (ar1[i],)\n",
    "\t\t\ti += 1\n",
    "\t\t\tj += 1\n",
    "\t\t\tk += 1\n",
    "\t\telif ar1[i] < ar2[j]:\n",
    "\t\t\ti += 1\n",
    "\t\telif ar2[j] < ar3[k]:\n",
    "\t\t\tj += 1\n",
    "\t\telse:\n",
    "\t\t\tk += 1\n",
    "ar1 = [1, 5, 10, 20, 40, 80]\n",
    "ar2 = [6, 7, 20, 80, 100]\n",
    "ar3 = [3, 4, 15, 20, 30, 70, 80, 120]\n",
    "n1 = len(ar1)\n",
    "n2 = len(ar2)\n",
    "n3 = len(ar3)\n",
    "\n",
    "findCommon(ar1, ar2, ar3, n1, n2, n3)"
   ]
  },
  {
   "cell_type": "markdown",
   "metadata": {},
   "source": [
    "# 20 Rearrange the array in alternating positive and negative items with O(1) extra space"
   ]
  },
  {
   "cell_type": "code",
   "execution_count": null,
   "metadata": {},
   "outputs": [],
   "source": [
    "A=[1, 2, 3, -4, -1, 4]\n",
    "neg=0\n",
    "pos=0\n",
    "i=0\n",
    "while (i<len(A)):\n",
    "    if A[i]>0:\n",
    "        pos=i"
   ]
  },
  {
   "cell_type": "code",
   "execution_count": 58,
   "metadata": {},
   "outputs": [
    {
     "name": "stdout",
     "output_type": "stream",
     "text": [
      "[1, -4, 2, -1, 3, 4]\n"
     ]
    }
   ],
   "source": [
    "def rearrangeP(arr, n):\n",
    "    if arr[0]<1:\n",
    "        i = 0\n",
    "    else:\n",
    "        i=1\n",
    "    for x in arr:\n",
    "        if x<0:\n",
    "            arr.insert(i, arr.pop(arr.index(x)))\n",
    "            i += 2\n",
    "    print( arr)\n",
    "rearrangeP([1,2, 3, -4, -1, 4],6)               "
   ]
  },
  {
   "cell_type": "code",
   "execution_count": null,
   "metadata": {},
   "outputs": [],
   "source": []
  },
  {
   "cell_type": "markdown",
   "metadata": {},
   "source": [
    "# 21 Find if there is any subarray with sum equal to 0\n"
   ]
  },
  {
   "cell_type": "code",
   "execution_count": 94,
   "metadata": {},
   "outputs": [
    {
     "name": "stdout",
     "output_type": "stream",
     "text": [
      "y\n",
      "i 0 j 1 re 6 \t arr[i:j+1] [4, 2]\n",
      "i 0 j 2 re 7 \t arr[i:j+1] [4, 2, 1]\n",
      "i 0 j 3 re 7 \t arr[i:j+1] [4, 2, 1, 0]\n",
      "i 0 j 4 re 13 \t arr[i:j+1] [4, 2, 1, 0, 6]\n",
      "i 1 j 2 re 3 \t arr[i:j+1] [2, 1]\n",
      "i 1 j 3 re 3 \t arr[i:j+1] [2, 1, 0]\n",
      "i 1 j 4 re 9 \t arr[i:j+1] [2, 1, 0, 6]\n",
      "i 2 j 3 re 1 \t arr[i:j+1] [1, 0]\n",
      "i 2 j 4 re 7 \t arr[i:j+1] [1, 0, 6]\n",
      "i 3 j 4 re 6 \t arr[i:j+1] [0, 6]\n"
     ]
    }
   ],
   "source": [
    "'''MY n^2'''\n",
    "arr=[4,2,1,0,6]\n",
    "if 0 in arr:\n",
    "    #return 1\n",
    "    print('y')\n",
    "re=0\n",
    "for i in range(len(arr)):\n",
    "    for j in range(len(arr)):\n",
    "        if j>i:\n",
    "            re=sum(arr[i:j+1])\n",
    "            if re==0:\n",
    "                print('ye')\n",
    "            print('i',i,'j',j,'re',re,'\\t','arr[i:j+1]',arr[i:j+1])\n",
    "        "
   ]
  },
  {
   "cell_type": "code",
   "execution_count": 97,
   "metadata": {},
   "outputs": [
    {
     "name": "stdout",
     "output_type": "stream",
     "text": [
      "y\n",
      "i 0 j 1 re 6 arr[i:j+1] [4, 2]\n",
      "i 0 j 2 re 7 arr[i:j+1] [4, 2, 1]\n",
      "i 0 j 3 re 7 arr[i:j+1] [4, 2, 1, 0]\n",
      "i 0 j 4 re 13 arr[i:j+1] [4, 2, 1, 0, 6]\n",
      "i 1 j 2 re 3 arr[i:j+1] [2, 1]\n",
      "i 1 j 3 re 3 arr[i:j+1] [2, 1, 0]\n",
      "i 1 j 4 re 9 arr[i:j+1] [2, 1, 0, 6]\n",
      "i 2 j 3 re 1 arr[i:j+1] [1, 0]\n",
      "i 2 j 4 re 7 arr[i:j+1] [1, 0, 6]\n",
      "i 3 j 4 re 6 arr[i:j+1] [0, 6]\n"
     ]
    }
   ],
   "source": [
    "'''MY n^2'''\n",
    "arr=[4,2,1,0,6]\n",
    "if 0 in arr:\n",
    "    #return 1\n",
    "    print('y')\n",
    "re=0\n",
    "for i in range(len(arr)):\n",
    "    j=i+1\n",
    "    while (j<len(arr)):\n",
    "        #if j>i:\n",
    "            re=sum(arr[i:j+1])\n",
    "            if re==0:\n",
    "                print('ye')\n",
    "            print('i',i,'j',j,'re',re,'arr[i:j+1]',arr[i:j+1])\n",
    "            j+=1\n",
    "        "
   ]
  },
  {
   "cell_type": "code",
   "execution_count": 111,
   "metadata": {},
   "outputs": [
    {
     "name": "stdout",
     "output_type": "stream",
     "text": [
      "1\n",
      "3\n",
      "6\n",
      "10\n",
      "15\n",
      "{1, 3, 6, 10, 15}\n"
     ]
    }
   ],
   "source": [
    "'''n'''\n",
    "'''Calculate Prefix sum....very imp learning'''\n",
    "\n",
    "#arr=[]\n",
    "arr=[1,2,3,4,5]\n",
    "if 0 in arr:\n",
    "    #return 1\n",
    "    print('y')\n",
    "sett=set()\n",
    "re=0\n",
    "for i in range(len(arr)):\n",
    "    re=re+arr[i]\n",
    "    print(re)\n",
    "    if re in sett:\n",
    "        \n",
    "        print('yyes')\n",
    "    sett.add(re)\n",
    "print(sett)\n"
   ]
  },
  {
   "cell_type": "markdown",
   "metadata": {},
   "source": [
    "# 22 Find factorial of a large number\n"
   ]
  },
  {
   "cell_type": "code",
   "execution_count": 8,
   "metadata": {},
   "outputs": [
    {
     "name": "stdout",
     "output_type": "stream",
     "text": [
      "120\n"
     ]
    }
   ],
   "source": [
    "N=5\n",
    "re=1\n",
    "while(N>1):\n",
    "    re=re*N\n",
    "    N=N-1\n",
    "print(re)"
   ]
  },
  {
   "cell_type": "markdown",
   "metadata": {},
   "source": [
    "## 23 find maximum product subarray "
   ]
  },
  {
   "cell_type": "code",
   "execution_count": 70,
   "metadata": {},
   "outputs": [
    {
     "data": {
      "text/plain": [
       "504"
      ]
     },
     "execution_count": 70,
     "metadata": {},
     "output_type": "execute_result"
    }
   ],
   "source": [
    "def maxProduct(nums):\n",
    "    mxx=1\n",
    "    mnn=1\n",
    "    ans=nums[0]\n",
    "    for i in nums:\n",
    "        mxx,mnn=max(i,mxx*i,mnn*i),min(i,mnn*i,mxx*i)\n",
    "        ans=max(ans,mxx,mnn)\n",
    "    return ans\n",
    "maxProduct([1,2,3,4,5,-6,7,8,9])"
   ]
  },
  {
   "cell_type": "code",
   "execution_count": 72,
   "metadata": {},
   "outputs": [
    {
     "data": {
      "text/plain": [
       "504"
      ]
     },
     "execution_count": 72,
     "metadata": {},
     "output_type": "execute_result"
    }
   ],
   "source": [
    "def maxProduct(nums):\n",
    "    re=nums[0]\n",
    "    mx=1\n",
    "    mi=1\n",
    "    for i in nums:\n",
    "        if i<0:\n",
    "            mx,mi=mi,mx\n",
    "        mx=max(i,mx*i)\n",
    "        mi=max(i,mi*i)\n",
    "        re=max(re,mx,mi)\n",
    "    return re\n",
    "    \n",
    "maxProduct([1,2,3,4,5,-6,7,8,9])"
   ]
  },
  {
   "cell_type": "code",
   "execution_count": null,
   "metadata": {},
   "outputs": [],
   "source": [
    "def maxProduct(self, nums: List[int]) -> int:\n",
    "        prod,prod2=1,1\n",
    "        answer=nums[0]\n",
    "        for i in range(len(nums)):\n",
    "\t\t\tprod*=nums[i] # prod from left to right\n",
    "            prod2*=nums[len(nums)-i-1] # prod from right to left\n",
    "            answer = max(answer,prod,prod2)\n",
    "            if nums[i] == 0: # sort of dividing an array to parts and starting fresh\n",
    "                prod=1\n",
    "            if nums[len(nums)-1-i] == 0: # same sort of dividing an array to parts and starting fresh\n",
    "                prod2=1\n",
    "        return answer"
   ]
  },
  {
   "cell_type": "code",
   "execution_count": null,
   "metadata": {},
   "outputs": [],
   "source": [
    "'''Legendry'''\n",
    "def maxProduct(self, A):\n",
    "    B = A[::-1]\n",
    "    for i in range(1, len(A)):\n",
    "        A[i] *= A[i - 1] or 1\n",
    "        B[i] *= B[i - 1] or 1\n",
    "    return max(A + B) #concating both arrays and finding max"
   ]
  },
  {
   "cell_type": "markdown",
   "metadata": {},
   "source": [
    "# 24 Find longest coinsecutive subsequence\n"
   ]
  },
  {
   "cell_type": "code",
   "execution_count": 139,
   "metadata": {},
   "outputs": [
    {
     "data": {
      "text/plain": [
       "[1, 2, 3]"
      ]
     },
     "execution_count": 139,
     "metadata": {},
     "output_type": "execute_result"
    }
   ],
   "source": [
    "b=[1,2,2,3]\n",
    "b=list(set(b))\n",
    "b"
   ]
  },
  {
   "cell_type": "code",
   "execution_count": 8,
   "metadata": {},
   "outputs": [
    {
     "name": "stdout",
     "output_type": "stream",
     "text": [
      "[1, 2, 3, 8, 9] 5\n",
      "[1, 2, 3, 8, 9]\n",
      "2 2\n",
      "3 3\n",
      "i=n-2 9\n",
      "9 2\n"
     ]
    },
    {
     "ename": "IndexError",
     "evalue": "list index out of range",
     "output_type": "error",
     "traceback": [
      "\u001b[1;31m---------------------------------------------------------------------------\u001b[0m",
      "\u001b[1;31mIndexError\u001b[0m                                Traceback (most recent call last)",
      "\u001b[1;32m<ipython-input-8-be73bfee04bb>\u001b[0m in \u001b[0;36m<module>\u001b[1;34m\u001b[0m\n\u001b[0;32m     11\u001b[0m \u001b[1;32mfor\u001b[0m \u001b[0mi\u001b[0m \u001b[1;32min\u001b[0m \u001b[0mrange\u001b[0m\u001b[1;33m(\u001b[0m\u001b[0mn\u001b[0m\u001b[1;33m)\u001b[0m\u001b[1;33m:\u001b[0m\u001b[1;33m\u001b[0m\u001b[1;33m\u001b[0m\u001b[0m\n\u001b[0;32m     12\u001b[0m \u001b[1;33m\u001b[0m\u001b[0m\n\u001b[1;32m---> 13\u001b[1;33m     \u001b[1;32mif\u001b[0m \u001b[0ma\u001b[0m\u001b[1;33m[\u001b[0m\u001b[0mi\u001b[0m\u001b[1;33m+\u001b[0m\u001b[1;36m1\u001b[0m\u001b[1;33m]\u001b[0m\u001b[1;33m==\u001b[0m\u001b[0ma\u001b[0m\u001b[1;33m[\u001b[0m\u001b[0mi\u001b[0m\u001b[1;33m]\u001b[0m\u001b[1;33m+\u001b[0m\u001b[1;36m1\u001b[0m\u001b[1;33m:\u001b[0m\u001b[1;33m\u001b[0m\u001b[1;33m\u001b[0m\u001b[0m\n\u001b[0m\u001b[0;32m     14\u001b[0m         \u001b[1;32mif\u001b[0m \u001b[0mi\u001b[0m\u001b[1;33m==\u001b[0m\u001b[0mn\u001b[0m\u001b[1;33m-\u001b[0m\u001b[1;36m2\u001b[0m\u001b[1;33m:\u001b[0m\u001b[1;33m\u001b[0m\u001b[1;33m\u001b[0m\u001b[0m\n\u001b[0;32m     15\u001b[0m             \u001b[0mprint\u001b[0m\u001b[1;33m(\u001b[0m\u001b[1;34m'i=n-2'\u001b[0m\u001b[1;33m,\u001b[0m\u001b[0ma\u001b[0m\u001b[1;33m[\u001b[0m\u001b[0mi\u001b[0m\u001b[1;33m+\u001b[0m\u001b[1;36m1\u001b[0m\u001b[1;33m]\u001b[0m\u001b[1;33m)\u001b[0m\u001b[1;33m\u001b[0m\u001b[1;33m\u001b[0m\u001b[0m\n",
      "\u001b[1;31mIndexError\u001b[0m: list index out of range"
     ]
    }
   ],
   "source": [
    "def findLongestConseqSubseq(self,arr, N):\n",
    "\n",
    "    a=list(set(arr))\n",
    "\n",
    "    #print(a,n)\n",
    "    re=1\n",
    "    resullt=0\n",
    "    a.sort()\n",
    "    n=len(a)\n",
    "    result=0\n",
    "    #print(a)\n",
    "    re=0\n",
    "    for i in range(1,n):\n",
    "        if a[i]==a[i-1]+1:\n",
    "            re+=1\n",
    "        else:\n",
    "            re=0\n",
    "        if re>result:\n",
    "            result=re\n",
    "    return result+1"
   ]
  },
  {
   "cell_type": "markdown",
   "metadata": {},
   "source": [
    "# 25 Given an array of size n and a number k, fin all elements that appear more than \" n/k \" times.\n"
   ]
  },
  {
   "cell_type": "code",
   "execution_count": 229,
   "metadata": {},
   "outputs": [
    {
     "name": "stdout",
     "output_type": "stream",
     "text": [
      "[0, 1, 2, 1, 0, 0, 0, 0]\n"
     ]
    }
   ],
   "source": [
    "'''MY O(n)'''\n",
    "a=[3, 1, 2, 2, 1, 2, 3, 3]\n",
    "import numpy as np\n",
    "n=4\n",
    "k=len(a)/n\n",
    "k\n",
    "resullt=[]\n",
    "bb=[0]*len(a)\n",
    "\n",
    "for i in range(n):\n",
    "    bb[a[i]]+=1\n",
    "print(bb)\n",
    "#print(bb.index(max(bb)))\n",
    "# for i in range(len(bb)):\n",
    "#     if bb[i]>k:\n",
    "#         print('re',i)"
   ]
  },
  {
   "cell_type": "code",
   "execution_count": 227,
   "metadata": {},
   "outputs": [
    {
     "data": {
      "text/plain": [
       "2.0"
      ]
     },
     "execution_count": 227,
     "metadata": {},
     "output_type": "execute_result"
    }
   ],
   "source": [
    "k"
   ]
  },
  {
   "cell_type": "code",
   "execution_count": 78,
   "metadata": {},
   "outputs": [
    {
     "name": "stdout",
     "output_type": "stream",
     "text": [
      "Counter({3: 3, 2: 3, 1: 2})\n",
      "3\n",
      "3\n",
      "1\n",
      "2\n",
      "2\n"
     ]
    }
   ],
   "source": [
    "from collections import Counter\n",
    "a=[3, 1, 2, 2, 1, 2, 3, 3]\n",
    "b=Counter(a)\n",
    "print(b)\n",
    "for i in b:\n",
    "    print(i)\n",
    "    if b[i]>2:\n",
    "        print(i)"
   ]
  },
  {
   "cell_type": "code",
   "execution_count": 87,
   "metadata": {},
   "outputs": [
    {
     "name": "stdout",
     "output_type": "stream",
     "text": [
      "Counter({4: 10, 3: 3, 2: 3, 1: 2})\n",
      "10\n",
      "\n",
      "3\n",
      "2\n",
      "3\n",
      "10\n"
     ]
    }
   ],
   "source": [
    "from collections import Counter\n",
    "a=[3, 1, 2, 2, 1, 2, 3, 3,4,4,4,4,4,4,4,4,4,4]\n",
    "b=Counter(a)\n",
    "print(b)\n",
    "print(b[4])\n",
    "print()\n",
    "for i in b:\n",
    "    print(b[i])\n",
    "    "
   ]
  },
  {
   "cell_type": "code",
   "execution_count": 83,
   "metadata": {},
   "outputs": [
    {
     "name": "stdout",
     "output_type": "stream",
     "text": [
      "o\n",
      "l\n",
      "l\n",
      "e\n",
      "h\n"
     ]
    }
   ],
   "source": [
    "s = [\"h\",\"e\",\"l\",\"l\",\"o\"]\n",
    "\n",
    "for i in reversed(s):\n",
    "    print(i)"
   ]
  },
  {
   "cell_type": "code",
   "execution_count": 1,
   "metadata": {},
   "outputs": [
    {
     "ename": "SyntaxError",
     "evalue": "invalid syntax (<ipython-input-1-5d08e2dd3cf4>, line 4)",
     "output_type": "error",
     "traceback": [
      "\u001b[1;36m  File \u001b[1;32m\"<ipython-input-1-5d08e2dd3cf4>\"\u001b[1;36m, line \u001b[1;32m4\u001b[0m\n\u001b[1;33m    * [Arrays](https://github.com/abhijitgawai/Data-Structures-and-Algorithms-Questions/blob/master/Array%20DSA.ipynb)\u001b[0m\n\u001b[1;37m                    ^\u001b[0m\n\u001b[1;31mSyntaxError\u001b[0m\u001b[1;31m:\u001b[0m invalid syntax\n"
     ]
    }
   ],
   "source": [
    "trying to commit"
   ]
  }
 ],
 "metadata": {
  "kernelspec": {
   "display_name": "Python 3 (ipykernel)",
   "language": "python",
   "name": "python3"
  },
  "language_info": {
   "codemirror_mode": {
    "name": "ipython",
    "version": 3
   },
   "file_extension": ".py",
   "mimetype": "text/x-python",
   "name": "python",
   "nbconvert_exporter": "python",
   "pygments_lexer": "ipython3",
   "version": "3.12.7"
  }
 },
 "nbformat": 4,
 "nbformat_minor": 4
}
